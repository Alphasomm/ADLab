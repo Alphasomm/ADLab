{
 "cells": [
  {
   "cell_type": "code",
   "execution_count": null,
   "id": "9b1cf463-dfe2-4059-bc7e-3de80b1b11ed",
   "metadata": {},
   "outputs": [
    {
     "ename": "",
     "evalue": "",
     "output_type": "error",
     "traceback": [
      "\u001b[1;31mRunning cells with '.venv (Python 3.12.1)' requires the ipykernel package.\n",
      "\u001b[1;31mRun the following command to install 'ipykernel' into the Python environment. \n",
      "\u001b[1;31mCommand: '\"c:/Users/KIIT/Desktop/ALL/AD lab/expt2/.venv/Scripts/python.exe\" -m pip install ipykernel -U --force-reinstall'"
     ]
    }
   ],
   "source": [
    "from flask import Flask, request, render_template, send_from_directory\n",
    "import tensorflow as tf\n",
    "from tensorflow.keras.models import load_model\n",
    "import numpy as np\n",
    "import cv2\n",
    "import os\n",
    "import pandas as pd\n",
    "\n",
    "app = Flask(__name__)\n",
    "\n",
    "# Load the trained model\n",
    "model = load_model(\"C:/Users/KIIT/Downloads/cat_dog_model.h5\")\n",
    "\n",
    "# Directory to save uploaded images\n",
    "UPLOAD_FOLDER = 'uploads'\n",
    "if not os.path.exists(UPLOAD_FOLDER):\n",
    "    os.makedirs(UPLOAD_FOLDER)\n",
    "\n",
    "# CSV file to save predictions\n",
    "CSV_FILE = 'predictions.csv'\n",
    "if not os.path.exists(CSV_FILE):\n",
    "    # Create the CSV file with headers if it doesn't exist\n",
    "    pd.DataFrame(columns=[\"Filename\", \"Prediction\"]).to_csv(CSV_FILE, index=False)\n",
    "\n",
    "@app.route('/', methods=['GET', 'POST'])\n",
    "def index():\n",
    "    prediction = None\n",
    "    uploaded_file_path = None\n",
    "\n",
    "    if request.method == 'POST':\n",
    "        # Check if a file was uploaded\n",
    "        if 'file' not in request.files or request.files['file'].filename == '':\n",
    "            return render_template('index.html', prediction=\"No file uploaded!\")\n",
    "\n",
    "        file = request.files['file']\n",
    "\n",
    "        # Save the file temporarily\n",
    "        file_path = os.path.join(UPLOAD_FOLDER, file.filename)\n",
    "        file.save(file_path)\n",
    "\n",
    "        # Preprocess the image\n",
    "        img = cv2.imread(file_path)\n",
    "        img = cv2.resize(img, (256, 256))  # Match model input shape\n",
    "        img = img / 255.0\n",
    "        img = np.expand_dims(img, axis=0)\n",
    "\n",
    "        # Make prediction\n",
    "        prediction_prob = model.predict(img)\n",
    "        prediction = 'Dog' if prediction_prob[0][0] > 0.5 else 'Cat'\n",
    "\n",
    "        # Save prediction to CSV\n",
    "        df = pd.read_csv(CSV_FILE)\n",
    "        new_entry = pd.DataFrame([[file.filename, prediction]], columns=[\"Filename\", \"Prediction\"])\n",
    "        df = pd.concat([df, new_entry], ignore_index=True)\n",
    "        df.to_csv(CSV_FILE, index=False)\n",
    "\n",
    "        uploaded_file_path = file_path\n",
    "\n",
    "    return render_template('index.html', prediction=prediction, image_path=uploaded_file_path)\n",
    "\n",
    "@app.route('/uploads/<filename>')\n",
    "def uploaded_file(filename):\n",
    "    return send_from_directory(UPLOAD_FOLDER, filename)\n",
    "\n",
    "if __name__ == '__main__':\n",
    "    app.run(debug=True)"
   ]
  },
  {
   "cell_type": "code",
   "execution_count": null,
   "id": "151041f3-4044-4a62-852c-ee0c59c153e1",
   "metadata": {},
   "outputs": [],
   "source": []
  }
 ],
 "metadata": {
  "kernelspec": {
   "display_name": ".venv",
   "language": "python",
   "name": "python3"
  },
  "language_info": {
   "codemirror_mode": {
    "name": "ipython",
    "version": 3
   },
   "file_extension": ".py",
   "mimetype": "text/x-python",
   "name": "python",
   "nbconvert_exporter": "python",
   "pygments_lexer": "ipython3",
   "version": "3.12.1"
  },
  "widgets": {
   "application/vnd.jupyter.widget-state+json": {
    "state": {},
    "version_major": 2,
    "version_minor": 0
   }
  }
 },
 "nbformat": 4,
 "nbformat_minor": 5
}
